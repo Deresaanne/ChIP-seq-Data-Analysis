{
 "cells": [
  {
   "cell_type": "code",
   "execution_count": 1,
   "metadata": {},
   "outputs": [
    {
     "name": "stdout",
     "output_type": "stream",
     "text": [
      "19094594 reads; of these:\n",
      "  19094594 (100.00%) were unpaired; of these:\n",
      "    241328 (1.26%) aligned 0 times\n",
      "    14234494 (74.55%) aligned exactly 1 time\n",
      "    4618772 (24.19%) aligned >1 times\n",
      "98.74% overall alignment rate\n"
     ]
    }
   ],
   "source": [
    "bowtie2 -x //coursedata/project/bowtie2-index/GRCh38 -U //coursedata/users/leey17/dexamethasone_1hour_NR3C1.fastq.gz -S CHIPseq.sam "
   ]
  },
  {
   "cell_type": "code",
   "execution_count": 2,
   "metadata": {},
   "outputs": [],
   "source": [
    "samtools view -bS CHIPseq.sam > CHIPseq.bam"
   ]
  },
  {
   "cell_type": "code",
   "execution_count": 7,
   "metadata": {},
   "outputs": [
    {
     "name": "stdout",
     "output_type": "stream",
     "text": [
      "[bam_sort_core] merging from 5 files and 1 in-memory blocks...\n"
     ]
    }
   ],
   "source": [
    "samtools sort -o CHIPseq.sorted.bam -T out.prefix.bam CHIPseq.bam"
   ]
  },
  {
   "cell_type": "code",
   "execution_count": 8,
   "metadata": {},
   "outputs": [],
   "source": [
    "samtools index -b CHIPseq.sorted.bam"
   ]
  }
 ],
 "metadata": {
  "kernelspec": {
   "display_name": "Bash",
   "language": "bash",
   "name": "bash"
  },
  "language_info": {
   "codemirror_mode": "shell",
   "file_extension": ".sh",
   "mimetype": "text/x-sh",
   "name": "bash"
  }
 },
 "nbformat": 4,
 "nbformat_minor": 4
}
